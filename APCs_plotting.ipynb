{
 "cells": [
  {
   "cell_type": "code",
   "execution_count": 31,
   "metadata": {},
   "outputs": [],
   "source": [
    "import urllib.request\n",
    "import pandas as pd"
   ]
  },
  {
   "cell_type": "code",
   "execution_count": 32,
   "metadata": {},
   "outputs": [],
   "source": [
    " open_apc_url = \"https://raw.githubusercontent.com/OpenAPC/openapc-de/master/data/fuberlin/APC_FU_Berlin_2015.csv\""
   ]
  },
  {
   "cell_type": "code",
   "execution_count": 33,
   "metadata": {},
   "outputs": [
    {
     "ename": "NameError",
     "evalue": "name 'file' is not defined",
     "output_type": "error",
     "traceback": [
      "\u001b[1;31m---------------------------------------------------------------------------\u001b[0m",
      "\u001b[1;31mNameError\u001b[0m                                 Traceback (most recent call last)",
      "\u001b[1;32m<ipython-input-33-1c92491ff214>\u001b[0m in \u001b[0;36m<module>\u001b[1;34m()\u001b[0m\n\u001b[1;32m----> 1\u001b[1;33m \u001b[0mapc\u001b[0m\u001b[1;33m:\u001b[0m\u001b[0mfile\u001b[0m \u001b[1;33m=\u001b[0m \u001b[1;34m\"openapc.cvs\"\u001b[0m\u001b[1;33m\u001b[0m\u001b[0m\n\u001b[0m",
      "\u001b[1;31mNameError\u001b[0m: name 'file' is not defined"
     ]
    }
   ],
   "source": [
    "apc:file = \"openapc.cvs\""
   ]
  },
  {
   "cell_type": "code",
   "execution_count": null,
   "metadata": {},
   "outputs": [],
   "source": [
    "apc_file = \"openapc.csv\""
   ]
  },
  {
   "cell_type": "code",
   "execution_count": null,
   "metadata": {},
   "outputs": [],
   "source": [
    "urllib.request.urlretrieve(open_apc_url, apc_file)"
   ]
  },
  {
   "cell_type": "code",
   "execution_count": null,
   "metadata": {},
   "outputs": [],
   "source": [
    "apcs = pd.read_csv(apc_file, sep=\",\")"
   ]
  },
  {
   "cell_type": "code",
   "execution_count": null,
   "metadata": {},
   "outputs": [],
   "source": [
    "apcs"
   ]
  },
  {
   "cell_type": "code",
   "execution_count": null,
   "metadata": {},
   "outputs": [],
   "source": [
    "type(apcs)"
   ]
  },
  {
   "cell_type": "code",
   "execution_count": null,
   "metadata": {},
   "outputs": [],
   "source": [
    "apcs.shape"
   ]
  },
  {
   "cell_type": "code",
   "execution_count": null,
   "metadata": {},
   "outputs": [],
   "source": [
    "apcs.columns"
   ]
  },
  {
   "cell_type": "code",
   "execution_count": null,
   "metadata": {},
   "outputs": [],
   "source": [
    "apcs[\"euro\"]"
   ]
  },
  {
   "cell_type": "code",
   "execution_count": null,
   "metadata": {},
   "outputs": [],
   "source": [
    "apcs[\"euro\"]>=2000"
   ]
  },
  {
   "cell_type": "code",
   "execution_count": null,
   "metadata": {},
   "outputs": [],
   "source": [
    "apcs[apcs[\"euro\"]>=2000]"
   ]
  },
  {
   "cell_type": "code",
   "execution_count": null,
   "metadata": {},
   "outputs": [],
   "source": [
    "%matplotlib inline"
   ]
  },
  {
   "cell_type": "code",
   "execution_count": null,
   "metadata": {},
   "outputs": [],
   "source": [
    "apcs[\"euro\"].hist()"
   ]
  },
  {
   "cell_type": "code",
   "execution_count": null,
   "metadata": {},
   "outputs": [],
   "source": [
    "%who"
   ]
  },
  {
   "cell_type": "code",
   "execution_count": null,
   "metadata": {},
   "outputs": [],
   "source": [
    "del(prices)"
   ]
  },
  {
   "cell_type": "code",
   "execution_count": null,
   "metadata": {},
   "outputs": [],
   "source": [
    "apcs[\"euro\"].hist(bins=30, color=\"orange\")"
   ]
  },
  {
   "cell_type": "code",
   "execution_count": null,
   "metadata": {},
   "outputs": [],
   "source": [
    "%matplotlib inline"
   ]
  },
  {
   "cell_type": "code",
   "execution_count": 34,
   "metadata": {},
   "outputs": [
    {
     "data": {
      "image/png": "[encoded data removed]",
      "text/plain": [
       "<Figure size 432x288 with 1 Axes>"
      ]
     },
     "metadata": {},
     "output_type": "display_data"
    }
   ],
   "source": [
    "import matplotlib.pyplot as plt\n",
    "apcs[\"euro\"].hist()\n",
    "plt.show()"
   ]
  },
  {
   "cell_type": "code",
   "execution_count": 36,
   "metadata": {},
   "outputs": [
    {
     "ename": "SyntaxError",
     "evalue": "invalid syntax (<ipython-input-36-1cd425cd6710>, line 1)",
     "output_type": "error",
     "traceback": [
      "\u001b[1;36m  File \u001b[1;32m\"<ipython-input-36-1cd425cd6710>\"\u001b[1;36m, line \u001b[1;32m1\u001b[0m\n\u001b[1;33m    apcs[\"euro\"].hist(bins=30, color\"orange\")\u001b[0m\n\u001b[1;37m                                           ^\u001b[0m\n\u001b[1;31mSyntaxError\u001b[0m\u001b[1;31m:\u001b[0m invalid syntax\n"
     ]
    }
   ],
   "source": [
    "apcs[\"euro\"].hist(bins=30, color\"orange\")"
   ]
  },
  {
   "cell_type": "code",
   "execution_count": 37,
   "metadata": {},
   "outputs": [
    {
     "name": "stdout",
     "output_type": "stream",
     "text": [
      "https://raw.githubusercontent.com/OpenAPC/openapc-de/master/data/fuberlin/APC_FU_Berlin_2015.csv\n",
      "openapc_berlin.csv\n",
      "https://raw.githubusercontent.com/OpenAPC/openapc-de/master/data/unifrankfurt/open_apc_2018jul-dez_final_enriched.csv\n",
      "openapc_frankfurt.csv\n",
      "https://raw.githubusercontent.com/OpenAPC/openapc-de/master/data/unimuenster/ULB-Muenster_Open-Access-Fonds_Kosten_2018_enriched.csv\n",
      "openapc_muenster.csv\n"
     ]
    }
   ],
   "source": [
    "url_and_filename = {\"https://raw.githubusercontent.com/OpenAPC/openapc-de/\"\n",
    "                    \"master/data/fuberlin/APC_FU_Berlin_2015.csv\" : \n",
    "                    \"openapc_berlin.csv\",\n",
    "                    \n",
    "                    \"https://raw.githubusercontent.com/OpenAPC/openapc-de/\"\n",
    "                    \"master/data/unifrankfurt/open_apc_2018jul-dez_final_enriched.csv\" :\n",
    "                    \"openapc_frankfurt.csv\",\n",
    "                    \n",
    "                    \"https://raw.githubusercontent.com/OpenAPC/openapc-de/\"\n",
    "                    \"master/data/unimuenster/ULB-Muenster_Open-Access-Fonds_Kosten_2018_enriched.csv\" :\n",
    "                    \"openapc_muenster.csv\"\n",
    "                    }\n",
    "for key, value in url_and_filename.items():\n",
    "    print(key)\n",
    "    print(value)"
   ]
  },
  {
   "cell_type": "code",
   "execution_count": 38,
   "metadata": {},
   "outputs": [
    {
     "name": "stdout",
     "output_type": "stream",
     "text": [
      "https://raw.githubusercontent.com/OpenAPC/openapc-de/master/data/fuberlin/APC_FU_Berlin_2015.csv\n",
      "openapc_berlin.csv\n",
      "https://raw.githubusercontent.com/OpenAPC/openapc-de/master/data/unifrankfurt/open_apc_2018jul-dez_final_enriched.csv\n",
      "openapc_frankfurt.csv\n",
      "https://raw.githubusercontent.com/OpenAPC/openapc-de/master/data/unimuenster/ULB-Muenster_Open-Access-Fonds_Kosten_2018_enriched.csv\n",
      "openapc_muenster.csv\n"
     ]
    }
   ],
   "source": [
    "url_and_filename = {\"https://raw.githubusercontent.com/OpenAPC/openapc-de/\"\n",
    "                    \"master/data/fuberlin/APC_FU_Berlin_2015.csv\" : \n",
    "                    \"openapc_berlin.csv\",\n",
    "                    \n",
    "                    \"https://raw.githubusercontent.com/OpenAPC/openapc-de/\"\n",
    "                    \"master/data/unifrankfurt/open_apc_2018jul-dez_final_enriched.csv\" :\n",
    "                    \"openapc_frankfurt.csv\",\n",
    "                    \n",
    "                    \"https://raw.githubusercontent.com/OpenAPC/openapc-de/\"\n",
    "                    \"master/data/unimuenster/ULB-Muenster_Open-Access-Fonds_Kosten_2018_enriched.csv\" :\n",
    "                    \"openapc_muenster.csv\"\n",
    "                    }\n",
    "for key, value in url_and_filename.items():\n",
    "    print(key)\n",
    "    print(value)"
   ]
  },
  {
   "cell_type": "code",
   "execution_count": null,
   "metadata": {},
   "outputs": [],
   "source": []
  },
  {
   "cell_type": "code",
   "execution_count": 39,
   "metadata": {},
   "outputs": [],
   "source": [
    "import urllib.request\n",
    "import pandas as pd"
   ]
  },
  {
   "cell_type": "code",
   "execution_count": null,
   "metadata": {},
   "outputs": [],
   "source": []
  },
  {
   "cell_type": "code",
   "execution_count": 40,
   "metadata": {},
   "outputs": [],
   "source": [
    " open_apc_url = \"https://raw.githubusercontent.com/OpenAPC/openapc-de/master/data/fuberlin/APC_FU_Berlin_2015.csv\""
   ]
  },
  {
   "cell_type": "code",
   "execution_count": 41,
   "metadata": {},
   "outputs": [],
   "source": [
    "\n",
    "apc_file = \"openapc.cvs\"\n"
   ]
  },
  {
   "cell_type": "code",
   "execution_count": 42,
   "metadata": {},
   "outputs": [
    {
     "ename": "SyntaxError",
     "evalue": "unexpected EOF while parsing (<ipython-input-42-d810c1d7cec3>, line 1)",
     "output_type": "error",
     "traceback": [
      "\u001b[1;36m  File \u001b[1;32m\"<ipython-input-42-d810c1d7cec3>\"\u001b[1;36m, line \u001b[1;32m1\u001b[0m\n\u001b[1;33m    for key, value in url_and_filename.items():\u001b[0m\n\u001b[1;37m                                                ^\u001b[0m\n\u001b[1;31mSyntaxError\u001b[0m\u001b[1;31m:\u001b[0m unexpected EOF while parsing\n"
     ]
    }
   ],
   "source": [
    "for key, value in url_and_filename.items(): "
   ]
  },
  {
   "cell_type": "code",
   "execution_count": 48,
   "metadata": {
    "scrolled": true
   },
   "outputs": [
    {
     "name": "stdout",
     "output_type": "stream",
     "text": [
      "https://raw.githubusercontent.com/OpenAPC/openapc-de/master/data/fuberlin/APC_FU_Berlin_2015.csv\n",
      "openapc_berlin.csv\n",
      "https://raw.githubusercontent.com/OpenAPC/openapc-de/master/data/unifrankfurt/open_apc_2018jul-dez_final_enriched.csv\n",
      "openapc_frankfurt.csv\n",
      "https://raw.githubusercontent.com/OpenAPC/openapc-de/master/data/unimuenster/ULB-Muenster_Open-Access-Fonds_Kosten_2018_enriched.csv\n",
      "openapc_muenster.csv\n"
     ]
    }
   ],
   "source": [
    "for open_apc_url, apc_file in url_and_filename.items():\n",
    "    print(open_apc_url)\n",
    "    print(apc_file)\n",
    "    urllib.request.urlretrieve(open_apc_url, apc_file)\n",
    "    "
   ]
  },
  {
   "cell_type": "code",
   "execution_count": 49,
   "metadata": {},
   "outputs": [
    {
     "ename": "SyntaxError",
     "evalue": "invalid syntax (<ipython-input-49-c36cb8ad7141>, line 5)",
     "output_type": "error",
     "traceback": [
      "\u001b[1;36m  File \u001b[1;32m\"<ipython-input-49-c36cb8ad7141>\"\u001b[1;36m, line \u001b[1;32m5\u001b[0m\n\u001b[1;33m    url_and_filename = {https://raw.githubusercontent.com/OpenAPC/openapc-de/master/data/fuberlin/APC_FU_Berlin_2015.csv\u001b[0m\n\u001b[1;37m                               ^\u001b[0m\n\u001b[1;31mSyntaxError\u001b[0m\u001b[1;31m:\u001b[0m invalid syntax\n"
     ]
    }
   ],
   "source": [
    "%matplotlib inline\n",
    "import urllib.request\n",
    "import pandas as pd\n",
    "import matplotlib.pyplot as plt\n",
    "url_and_filename = {https://raw.githubusercontent.com/OpenAPC/openapc-de/master/data/fuberlin/APC_FU_Berlin_2015.csv\n",
    "                   https://raw.githubusercontent.com/OpenAPC/openapc-de/master/data/unifrankfurt/open_apc_2018jul-dez_final_enriched.csv\n",
    "                   https://raw.githubusercontent.com/OpenAPC/openapc-de/master/data/unimuenster/ULB-Muenster_Open-Access-Fonds_Kosten_2018_enriched.csv}\n",
    "for open_apc_url, apc:file in url_and_filename.items():\n",
    "    urllib.request.urlretrive(url, filename) \n",
    "    apcs = pd.read_csv(filename)\n",
    "    apcs[\"euro\"].hist(bins=20, color=\"black\")\n",
    "    plt.show()"
   ]
  },
  {
   "cell_type": "code",
   "execution_count": null,
   "metadata": {},
   "outputs": [],
   "source": []
  }
 ],
 "metadata": {
  "kernelspec": {
   "display_name": "Python 3",
   "language": "python",
   "name": "python3"
  },
  "language_info": {
   "codemirror_mode": {
    "name": "ipython",
    "version": 3
   },
   "file_extension": ".py",
   "mimetype": "text/x-python",
   "name": "python",
   "nbconvert_exporter": "python",
   "pygments_lexer": "ipython3",
   "version": "3.6.5"
  }
 },
 "nbformat": 4,
 "nbformat_minor": 2
}
